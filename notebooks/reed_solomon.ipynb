{
 "cells": [
  {
   "cell_type": "markdown",
   "metadata": {},
   "source": [
    "# Part 1: Understanding Reed–Solomon Codes — The Polynomial & Field View\n",
    "## 🔍 Motivation\n",
    "Reed–Solomon (RS) codes are used in QR codes, CDs, satellite communication, and more. They're powerful because they can detect and correct multiple errors, even in harsh environments.\n",
    "\n",
    "To understand how they work, we’ll take a unique approach:\n",
    "We’ll separate the two core ingredients of RS codes:\n",
    "\n",
    "* Polynomials: Used to represent and manipulate the message.\n",
    "* Galois Fields (GF): A finite number system used for arithmetic.\n",
    "\n",
    "These two are independent but work together to form RS codes."
   ]
  },
  {
   "cell_type": "markdown",
   "metadata": {},
   "source": [
    "## ✨ Key Concepts\n",
    "### 🧩 Polynomials\n",
    "A message like [1, -2, 3, 5] can be represented as a polynomial:\n",
    "\n",
    "$$ P(x) = 1 -2x +3x^2 +5x^3 $$\n",
    " \n",
    "\n",
    "The coefficients are the message symbols.\n",
    "\n",
    "We can “evaluate” this polynomial at specific values of x to generate encoded values.\n",
    "\n",
    "🔁 Galois Fields (GF)\n",
    "A finite field with q elements (usually GF(2⁸) or GF(7) in toy examples).\n",
    "\n",
    "Arithmetic (add, multiply, divide) wraps around, much like modular arithmetic.\n",
    "\n",
    "In this part, we’ll ignore Galois Fields and work with regular integers to focus on the polynomial logic."
   ]
  },
  {
   "cell_type": "code",
   "execution_count": 1,
   "metadata": {},
   "outputs": [],
   "source": [
    "import sympy"
   ]
  },
  {
   "cell_type": "code",
   "execution_count": 2,
   "metadata": {},
   "outputs": [],
   "source": [
    "import numpy as np\n",
    "import matplotlib.pyplot as plt\n",
    "from sympy import symbols, lambdify\n",
    "import ipywidgets as widgets\n",
    "from IPython.display import display\n",
    "\n",
    "x = symbols('x')"
   ]
  },
  {
   "cell_type": "code",
   "execution_count": 3,
   "metadata": {},
   "outputs": [
    {
     "data": {
      "application/vnd.jupyter.widget-view+json": {
       "model_id": "8808c1360b1d4af8af21f08d01f26a16",
       "version_major": 2,
       "version_minor": 0
      },
      "text/plain": [
       "interactive(children=(IntSlider(value=1, description='m₀', max=10, min=-10), IntSlider(value=-2, description='…"
      ]
     },
     "metadata": {},
     "output_type": "display_data"
    }
   ],
   "source": [
    "# Widget sliders for coefficients\n",
    "m0_slider = widgets.IntSlider(value=1, min=-10, max=10, description='m₀')\n",
    "m1_slider = widgets.IntSlider(value=-2, min=-10, max=10, description='m₁')\n",
    "m2_slider = widgets.IntSlider(value=3, min=-10, max=10, description='m₂')\n",
    "m3_slider = widgets.IntSlider(value=5, min=-10, max=10, description='m₃')\n",
    "\n",
    "def plot_poly(m0, m1, m2, m3):\n",
    "    poly_expr = m0 + m1*x + m2*x**2 + m3*x**3\n",
    "    f = lambdify(x, poly_expr, modules='numpy')\n",
    "    \n",
    "    xs = np.linspace(-5, 5, 400)\n",
    "    ys = f(xs)\n",
    "\n",
    "    plt.figure(figsize=(8, 5))\n",
    "    plt.plot(xs, ys, label=f'$P(x) = {m0} + {m1}x + {m2}x^2 + {m3}x^3$')\n",
    "    plt.axhline(0, color='gray', lw=1, linestyle='--')\n",
    "    plt.axvline(0, color='gray', lw=1, linestyle='--')\n",
    "    plt.title(\"Polynomial View of the Message\")\n",
    "    plt.xlabel(\"x\")\n",
    "    plt.ylabel(\"P(x)\")\n",
    "    plt.grid(True)\n",
    "    plt.legend()\n",
    "    plt.show()\n",
    "\n",
    "widgets.interact(plot_poly, m0=m0_slider, m1=m1_slider, m2=m2_slider, m3=m3_slider);\n"
   ]
  },
  {
   "cell_type": "markdown",
   "metadata": {},
   "source": [
    "A quick refresher about polynomials:\n",
    "* A degree-n polynomial always has n roots.\n",
    "* Some of these roots may be real, and some of them complex.\n",
    "* The real ones are the ones that intercept the x-axis.\n",
    "* Also keep in mind that the roots may be repeated."
   ]
  },
  {
   "cell_type": "markdown",
   "metadata": {},
   "source": [
    "The Reed-Solomon codes takes this into their advantage when encoding a message. For example:\n",
    "\n",
    "* You start with 4 data symbols → degree-3 polynomial $m(x)$\n",
    "* You multiply it by $(x-1)(x-2)$ to get a degree-5 polynomial $c(x)$\n",
    "* $c(x)$ is the encoded message, and it has two guaranteed roots, at $x=1$ and $x=2$.\n",
    "* Equipped with this information, now we know that assigning $x=1$ and $x=2$, $c(x)$ will be $0$. If not, an error has occured."
   ]
  },
  {
   "cell_type": "markdown",
   "metadata": {},
   "source": [
    "# 🧮 Part 2: Reed–Solomon Encoding by Forcing Known Roots (Toy Model, No GF Yet)\n",
    "## 🎯 Objective\n",
    "We want to take 4 message values and extend them with 2 extra symbols (A and B) so that the resulting polynomial:\n",
    "\n",
    "$P(x)=m_0 x^5 +m_1x^4+m_2 x^3+m_3 x^2 +Ax +B$\n",
    " \n",
    "is divisible by $(x−1)(x−2)$.\n",
    "This guarantees that: $P(1)=0,P(2)=0$ \n",
    "And these can later be used as syndrome checks during decoding.\n",
    "\n",
    "(Note: the message distribution over the polynomial is a little different than part 1, but it's OK.)\n"
   ]
  },
  {
   "cell_type": "code",
   "execution_count": 4,
   "metadata": {},
   "outputs": [
    {
     "name": "stdout",
     "output_type": "stream",
     "text": [
      "Polynomial P(x):\n"
     ]
    },
    {
     "data": {
      "text/latex": [
       "$\\displaystyle A x + B + x^{5} - 2 x^{4} + 3 x^{3} + 5 x^{2}$"
      ],
      "text/plain": [
       "A*x + B + x**5 - 2*x**4 + 3*x**3 + 5*x**2"
      ]
     },
     "metadata": {},
     "output_type": "display_data"
    },
    {
     "name": "stdout",
     "output_type": "stream",
     "text": [
      "\n",
      "Divisor (x - 1)(x - 2):\n"
     ]
    },
    {
     "data": {
      "text/latex": [
       "$\\displaystyle \\left(x - 2\\right) \\left(x - 1\\right)$"
      ],
      "text/plain": [
       "(x - 2)*(x - 1)"
      ]
     },
     "metadata": {},
     "output_type": "display_data"
    },
    {
     "name": "stdout",
     "output_type": "stream",
     "text": [
      "\n",
      "Remainder of P(x) ÷ (x - 1)(x - 2):\n"
     ]
    },
    {
     "data": {
      "text/latex": [
       "$\\displaystyle A x + B + 37 x - 30$"
      ],
      "text/plain": [
       "A*x + B + 37*x - 30"
      ]
     },
     "metadata": {},
     "output_type": "display_data"
    }
   ],
   "source": [
    "from sympy import symbols, Poly, div, simplify\n",
    "\n",
    "# Define x as a symbol\n",
    "x = symbols('x')\n",
    "\n",
    "# Message coefficients (can be changed for testing)\n",
    "m0, m1, m2, m3 = 1, -2, 3, 5\n",
    "\n",
    "# Define unknowns A and B\n",
    "A, B = symbols('A B')\n",
    "\n",
    "# Construct the degree-5 polynomial: message + two unknowns\n",
    "P = m0*x**5 + m1*x**4 + m2*x**3 + m3*x**2 + A*x + B\n",
    "\n",
    "# Define the divisor polynomial (x - 1)(x - 2)\n",
    "divisor = simplify((x - 1)*(x - 2))\n",
    "\n",
    "# Perform symbolic division\n",
    "quotient, remainder = div(P, divisor, domain='QQ')\n",
    "\n",
    "print(\"Polynomial P(x):\")\n",
    "display(P)\n",
    "\n",
    "print(\"\\nDivisor (x - 1)(x - 2):\")\n",
    "display(divisor)\n",
    "\n",
    "print(\"\\nRemainder of P(x) ÷ (x - 1)(x - 2):\")\n",
    "display(remainder)"
   ]
  },
  {
   "cell_type": "markdown",
   "metadata": {},
   "source": [
    "Now, we want this remainder to be 0. For that matter, we solve for A and B."
   ]
  },
  {
   "cell_type": "code",
   "execution_count": 5,
   "metadata": {},
   "outputs": [
    {
     "data": {
      "text/plain": [
       "{A: -37, B: 30}"
      ]
     },
     "execution_count": 5,
     "metadata": {},
     "output_type": "execute_result"
    }
   ],
   "source": [
    "from sympy import solve\n",
    "\n",
    "# remainder will be a linear polynomial: r0 + r1*x\n",
    "# We want remainder = 0 ⇒ both coefficients must be 0\n",
    "solutions = solve(remainder.as_expr(), (A, B))\n",
    "solutions\n"
   ]
  },
  {
   "cell_type": "markdown",
   "metadata": {},
   "source": [
    "Let's verify the findings by solving the polynomial with roots 1 and 2:"
   ]
  },
  {
   "cell_type": "code",
   "execution_count": 6,
   "metadata": {},
   "outputs": [
    {
     "name": "stdout",
     "output_type": "stream",
     "text": [
      "P(1) = 0\n",
      "P(2) = 0\n"
     ]
    }
   ],
   "source": [
    "P_final = P.subs(solutions)\n",
    "\n",
    "# Evaluate P(x) at x = 1 and x = 2\n",
    "P1 = P_final.subs(x, 1)\n",
    "P2 = P_final.subs(x, 2)\n",
    "\n",
    "print(\"P(1) =\", P1)\n",
    "print(\"P(2) =\", P2)\n"
   ]
  },
  {
   "cell_type": "markdown",
   "metadata": {},
   "source": [
    "# 🧪 Part 3: Error Detection Using Syndromes (Toy RS)\n",
    "## 🎯 Objective\n",
    "We now simulate a transmission error and show how evaluating the polynomial at the known root positions x=1 and x=2 exposes the error.\n",
    "\n",
    "We'll also brute-force search for the error location."
   ]
  },
  {
   "cell_type": "markdown",
   "metadata": {},
   "source": [
    "🛠 Step 1: Rebuild the Clean Codeword Polynomial\n",
    "\n",
    "We'll use the same message and A, B values from before."
   ]
  },
  {
   "cell_type": "code",
   "execution_count": 7,
   "metadata": {},
   "outputs": [
    {
     "data": {
      "text/latex": [
       "$\\displaystyle x^{5} - 2 x^{4} + 3 x^{3} + 5 x^{2} - 37 x + 30$"
      ],
      "text/plain": [
       "x**5 - 2*x**4 + 3*x**3 + 5*x**2 - 37*x + 30"
      ]
     },
     "execution_count": 7,
     "metadata": {},
     "output_type": "execute_result"
    }
   ],
   "source": [
    "from sympy import symbols, simplify\n",
    "\n",
    "# Define variables\n",
    "x = symbols('x')\n",
    "\n",
    "# Coefficients from Veritasium example\n",
    "m0, m1, m2, m3 = 1, -2, 3, 5\n",
    "A_val, B_val = -37, 30\n",
    "\n",
    "# Final polynomial with no errors\n",
    "P_clean = m0*x**5 + m1*x**4 + m2*x**3 + m3*x**2 + A_val*x + B_val\n",
    "simplify(P_clean)\n"
   ]
  },
  {
   "cell_type": "markdown",
   "metadata": {},
   "source": [
    "💥 Step 2: Simulate a Transmission Error\n",
    "\n",
    "Let’s say the 5 (coefficient of $x^2$) got corrupted into a 6:"
   ]
  },
  {
   "cell_type": "code",
   "execution_count": 8,
   "metadata": {},
   "outputs": [
    {
     "data": {
      "text/latex": [
       "$\\displaystyle x^{5} - 2 x^{4} + 3 x^{3} + 6 x^{2} - 37 x + 30$"
      ],
      "text/plain": [
       "x**5 - 2*x**4 + 3*x**3 + 6*x**2 - 37*x + 30"
      ]
     },
     "execution_count": 8,
     "metadata": {},
     "output_type": "execute_result"
    }
   ],
   "source": [
    "# Extract original coefficient of x^2 (should be 5)\n",
    "original = P_clean.coeff(x, 2)\n",
    "\n",
    "# Replace with incorrect value\n",
    "P_corrupted = P_clean - original * x**2 + 6 * x**2\n",
    "P_corrupted = simplify(P_corrupted)\n",
    "P_corrupted\n"
   ]
  },
  {
   "cell_type": "markdown",
   "metadata": {},
   "source": [
    "🧪 Step 3: Compute Syndromes (Evaluate at x = 1 and x = 2)"
   ]
  },
  {
   "cell_type": "code",
   "execution_count": 9,
   "metadata": {},
   "outputs": [
    {
     "name": "stdout",
     "output_type": "stream",
     "text": [
      "Syndromes:\n",
      "P(1) = 1\n",
      "P(2) = 4\n"
     ]
    }
   ],
   "source": [
    "S1 = P_corrupted.subs(x, 1)\n",
    "S2 = P_corrupted.subs(x, 2)\n",
    "\n",
    "print(\"Syndromes:\")\n",
    "print(\"P(1) =\", S1)\n",
    "print(\"P(2) =\", S2)\n"
   ]
  },
  {
   "cell_type": "markdown",
   "metadata": {},
   "source": [
    "If both syndromes are zero, no error occurred. If not, then an error has been detected ✅"
   ]
  },
  {
   "cell_type": "markdown",
   "metadata": {},
   "source": [
    "🔎 Step 4: Brute-Force Error Location & Value\n",
    "\n",
    "We'll try changing each coefficient to a variable, one at a time, and see which one can make both syndromes zero again."
   ]
  },
  {
   "cell_type": "code",
   "execution_count": 10,
   "metadata": {},
   "outputs": [
    {
     "data": {
      "text/plain": [
       "{2: 5}"
      ]
     },
     "execution_count": 10,
     "metadata": {},
     "output_type": "execute_result"
    }
   ],
   "source": [
    "from sympy import Eq, solve\n",
    "\n",
    "possible_errors = {}\n",
    "\n",
    "for deg in range(6):  # Degrees 0 to 5\n",
    "    e = symbols(f'e{deg}')\n",
    "    \n",
    "    # Replace only one coefficient at a time\n",
    "    current = P_corrupted.coeff(x, deg)\n",
    "    P_test = P_corrupted - current * x**deg + e * x**deg\n",
    "    \n",
    "    # Evaluate syndromes\n",
    "    s1 = P_test.subs(x, 1)\n",
    "    s2 = P_test.subs(x, 2)\n",
    "    \n",
    "    # Solve for value that zeros both syndromes\n",
    "    sol = solve([Eq(s1, 0), Eq(s2, 0)], e)\n",
    "    \n",
    "    if sol and e in sol:\n",
    "        possible_errors[deg] = sol[e]\n",
    "\n",
    "possible_errors\n"
   ]
  },
  {
   "cell_type": "markdown",
   "metadata": {},
   "source": [
    "✅ What This Shows\n",
    "Only one coefficient (likely $x^2$) will produce a solution.\n",
    "\n",
    "The solution will match the original value (5), revealing the correct value and error location."
   ]
  },
  {
   "cell_type": "markdown",
   "metadata": {},
   "source": [
    "# 🧮 Part 4: Galois Fields — The Arithmetic Behind RS Codes\n",
    "## 🎯 Objective\n",
    "So far we’ve done everything using integers and symbolic math. That’s fine for understanding the structure of RS codes, but in real systems like QR codes, CDs, and satellite comms, all arithmetic is done over finite fields called Galois Fields (GF).\n",
    "\n",
    "Understanding Galois Fields is non-negotiable if you want to:\n",
    "\n",
    "* Encode real RS codewords\n",
    "* Decode them using algebraic methods\n",
    "* Work in digital systems (bits/bytes)\n",
    "\n",
    "🔹 What is a Galois Field?\n",
    "A Galois Field GF(q) is a set of q elements where:\n",
    "\n",
    "You can add, subtract, multiply, and divide (except by zero)\n",
    "\n",
    "All results stay within the set\n",
    "\n",
    "It behaves like modular arithmetic, but with structure and guarantees\n",
    "\n",
    "### ✳️ The Smallest Fields\n",
    "\n",
    "| Field        | Elements                        | Notes                             |\n",
    "|--------------|----------------------------------|------------------------------------|\n",
    "| GF(2)        | {0, 1}                           | All binary logic lives here        |\n",
    "| GF(3)        | {0, 1, 2}                        | Modulo-3 world                     |\n",
    "| GF(7)        | {0, 1, 2, 3, 4, 5, 6}            | Prime field                        |\n",
    "| GF(2⁴), GF(2⁸) | 16 or 256 elements               | Most common in RS (used in bytes) |"
   ]
  },
  {
   "cell_type": "markdown",
   "metadata": {},
   "source": [
    "This is a good place to talk about Galois Fields vs. Modulo arithmetic:\n",
    "\n",
    "## 🔍 Modulo Arithmetic vs. Galois Field Arithmetic\n",
    "\n",
    "| Feature               | Modulo Arithmetic (ℤ/nℤ)                     | Galois Field GF(pⁿ)                          |\n",
    "|-----------------------|----------------------------------------------|----------------------------------------------|\n",
    "| Set size              | n                                            | \\( p^n \\), where p is prime                  |\n",
    "| Element type          | Integers from 0 to n−1                       | Field elements (integers or polynomials)     |\n",
    "| Operations            | Modulo add/subtract/mult                     | Full field operations incl. division         |\n",
    "| Inverses (nonzero)    | Only if n is prime                           | Always (except for 0)                        |\n",
    "| Field guaranteed?     | ❌ No (unless n is prime)                    | ✅ Yes                                       |\n",
    "| Byte compatibility    | ❌ Not naturally                             | ✅ GF(2⁸) = 1 byte                            |\n",
    "| Used in RS codes      | ❌ Rarely                                    | ✅ Always                                    |\n"
   ]
  },
  {
   "cell_type": "markdown",
   "metadata": {},
   "source": [
    "Modulo arithmetic is like wrapping around a circle of integers.\n",
    "\n",
    "Galois Field arithmetic is like wrapping around with rules that preserve algebraic structure (like multiplicative inverses and polynomial division)."
   ]
  },
  {
   "cell_type": "markdown",
   "metadata": {},
   "source": [
    "📌 Example: GF(7) vs. ℤ/7ℤ\n",
    "For GF(7) and modulo 7, the arithmetic looks the same at first:\n",
    "\n",
    "Both in GF(7) and mod 7:\n",
    "* 3 + 5 = 1\n",
    "* 3 * 5 = 1\n",
    "\n",
    "But in mod 8, things break:\n",
    "\n",
    "* 2 has no inverse mod 8 (because 2 and 8 are not coprime)\n",
    "* So ℤ/8ℤ is not a field\n",
    "\n",
    "Whereas GF(8) is carefully constructed using binary polynomials so that every nonzero element has an inverse."
   ]
  },
  {
   "cell_type": "markdown",
   "metadata": {},
   "source": [
    "✅ We work with Galois Fields (GF) instead of modulo arithmetic because:\n",
    "* Galois Fields guarantee that all nonzero elements have a multiplicative inverse,\n",
    "* Modulo arithmetic only does this when the modulus is prime.\n",
    "\n",
    "Why is inversion so important in Reed–Solomon codes?\n",
    "\n",
    "Because decoding (i.e., error correction) relies heavily on algebraic techniques where you need to:\n",
    "\n",
    "1. Solve Linear Equations\n",
    "\n",
    "In RS decoding (e.g., using Berlekamp–Massey or Forney's algorithm), you often solve systems like:\n",
    "\n",
    "$$a \\cdot x = b \\rightarrow  x = \\frac{b}{a} = b \\cdot a^{-1}$$\n",
    "\n",
    "a doesn’t have an inverse, you're stuck!\n",
    "\n",
    "2. Find Error Magnitudes\n",
    "\n",
    "After locating the positions of errors (roots of the error locator polynomial), we still need to figure out how much to fix at each location.\n",
    "\n",
    "3. Polynomial Division\n",
    "\n",
    "To generate or decode RS codewords, we often need to divide polynomials. Division in modular arithmetic is not always defined, but in a Galois Field, it’s always safe because everything except 0 is invertible."
   ]
  },
  {
   "cell_type": "markdown",
   "metadata": {},
   "source": [
    "## Galois Fields - continued\n",
    "\n",
    "In GF(2⁸):\n",
    "This is more complex—we're no longer just doing arithmetic on numbers. Instead:\n",
    "\n",
    "Each element is an 8-bit number (0–255)\n",
    "\n",
    "Operations are done using polynomials over GF(2) with modulo a primitive polynomial\n",
    "\n",
    "Example:\n",
    "\n",
    "a(x) = x³ + x + 1 is encoded as 0b1011 = 11\n",
    "\n",
    "Multiply two such polynomials, then mod by the primitive polynomial\n",
    "\n",
    "It’s how RS codes operate on bytes.\n",
    "\n"
   ]
  },
  {
   "cell_type": "code",
   "execution_count": 11,
   "metadata": {},
   "outputs": [
    {
     "name": "stdout",
     "output_type": "stream",
     "text": [
      "Requirement already satisfied: galois in /home/furkan/Documents/communications_project/venv_comms/lib/python3.10/site-packages (0.4.4)\n",
      "Requirement already satisfied: numpy>=1.21.0 in /home/furkan/Documents/communications_project/venv_comms/lib/python3.10/site-packages (from galois) (2.0.2)\n",
      "Requirement already satisfied: numba<0.62,>=0.55 in /home/furkan/Documents/communications_project/venv_comms/lib/python3.10/site-packages (from galois) (0.60.0)\n",
      "Requirement already satisfied: typing-extensions>=4.0.0 in /home/furkan/Documents/communications_project/venv_comms/lib/python3.10/site-packages (from galois) (4.12.2)\n",
      "Requirement already satisfied: llvmlite<0.44,>=0.43.0dev0 in /home/furkan/Documents/communications_project/venv_comms/lib/python3.10/site-packages (from numba<0.62,>=0.55->galois) (0.43.0)\n",
      "Note: you may need to restart the kernel to use updated packages.\n"
     ]
    }
   ],
   "source": [
    "pip install galois"
   ]
  },
  {
   "cell_type": "code",
   "execution_count": 12,
   "metadata": {},
   "outputs": [
    {
     "name": "stdout",
     "output_type": "stream",
     "text": [
      "a + b = 1\n",
      "a * b = 1\n",
      "a / b = 2\n"
     ]
    }
   ],
   "source": [
    "import galois\n",
    "\n",
    "# Create GF(7)\n",
    "GF7 = galois.GF(7)\n",
    "\n",
    "a = GF7(3)\n",
    "b = GF7(5)\n",
    "\n",
    "print(\"a + b =\", a + b)  # (3 + 5) % 7 = 1\n",
    "print(\"a * b =\", a * b)  # (3 * 5) % 7 = 1\n",
    "print(\"a / b =\", a / b)  # = 3 * inverse(5) mod 7\n"
   ]
  },
  {
   "cell_type": "markdown",
   "metadata": {},
   "source": [
    "We can now:\n",
    "\n",
    "* Define RS messages as polynomials in GF(7)\n",
    "* Evaluate them at points in GF(7)\n",
    "* Detect and correct errors within the field\n",
    "\n"
   ]
  },
  {
   "cell_type": "markdown",
   "metadata": {},
   "source": [
    "## The essence of Galois Fields\n",
    "\n",
    "The Key Idea: Every element in GF(2ⁿ) is not just a number, it's a polynomial with coefficients in GF(2) (i.e., 0s and 1s), and its degree is less than n.\n",
    "\n",
    "Example: GF($2^3$): Elements as Binary and Polynomial Representations\n",
    "\n",
    "Each element in GF(2³) is a binary polynomial of degree < 3 (with coefficients in GF(2)):\n",
    "\n",
    "| Binary | Polynomial Form       |\n",
    "|--------|------------------------|\n",
    "| `000`  | \\( 0 \\)                |\n",
    "| `001`  | \\( 1 \\)                |\n",
    "| `010`  | \\( x \\)                |\n",
    "| `011`  | \\( x + 1 \\)            |\n",
    "| `100`  | \\( x^2 \\)              |\n",
    "| `101`  | \\( x^2 + 1 \\)          |\n",
    "| `110`  | \\( x^2 + x \\)          |\n",
    "| `111`  | \\( x^2 + x + 1 \\)      |\n",
    "\n",
    "We map each 3-bit pattern to a polynomial, and we perform all arithmetic modulo an irreducible polynomial, like:\n",
    "$$m(x)=x^3  +x+1$$\n",
    "This keeps the field closed under multiplication.\n",
    "\n",
    "Thus: \n",
    "* Addition is simple bitwise XOR.\n",
    "* Subtraction: Same as addition.\n",
    "* Multiplication is: multiplication of polynomial, then reducing it using the modulo the primitive polynomial.\n",
    "* Division: Multiplication by the inverse, because in GF every element is guaranteed to have an inverse."
   ]
  },
  {
   "cell_type": "markdown",
   "metadata": {},
   "source": [
    "# 🧱 Part 5: Real Reed–Solomon Encoding (Over GF)\n",
    "## 🎯 Goal\n",
    "We now implement actual RS encoding like in digital systems—over a finite field such as GF(7) or GF(2⁸)—and compare it to the toy example.\n",
    "\n",
    "## 🧩 How Real RS Encoding Works\n",
    "We go from a message of $k$ symbols to a codeword of $n$ symbols using a polynomial defined over a Galois Field.\n",
    "\n",
    "## ✅ High-Level Steps\n",
    "* Message Polynomial: Build $m(x)=m_0 +m_1x + ⋯ + m_{k−1} x^{k−1}$\n",
    "* Generator Polynomial: Define $g(x)$, a known degree-(n-k) polynomial with n−k known roots in GF.\n",
    "* Encoding: Multiply $m(x) \\cdot x^{n−k}$, then divide by $g(x)$ and subtract remainder.\n",
    "\n",
    "That is: $c(x)=m(x) \\cdot x^{n−k} −remainder$\n",
    "\n",
    "* Codeword: The coefficients of $c(x)$ are your RS codeword.\n",
    "\n"
   ]
  },
  {
   "cell_type": "code",
   "execution_count": 16,
   "metadata": {},
   "outputs": [
    {
     "name": "stdout",
     "output_type": "stream",
     "text": [
      "Message: [3 1 4]\n",
      "Generator g(x): 2x^2 + 4x + 1\n",
      "Codeword polynomial: 3x^4 + x^3 + 4x^2 + 5x + 1\n",
      "Codeword symbols: [3 1 4 5 1]\n"
     ]
    }
   ],
   "source": [
    "import galois\n",
    "\n",
    "# Define a small field (for clarity)\n",
    "GF = galois.GF(7)\n",
    "\n",
    "# Parameters\n",
    "k = 3  # message length\n",
    "n = 5  # codeword length\n",
    "\n",
    "# Example message: 3 symbols\n",
    "message = GF([3, 1, 4])  # m(x) = 3 + 1x + 4x²\n",
    "\n",
    "# Build message polynomial\n",
    "m = galois.Poly(message, field=GF)\n",
    "\n",
    "# Build generator polynomial (roots at x=1 and x=2 in GF(7))\n",
    "g = galois.Poly([1], field=GF)\n",
    "for root in [1, 2]:\n",
    "    g *= galois.Poly([-root, 1], field=GF)  # (x - 1)(x - 2)\n",
    "\n",
    "# Multiply message by x^(n-k)\n",
    "m_x = m * galois.Poly.Degrees([n - k], coeffs=[1], field=GF)\n",
    "\n",
    "# Perform polynomial division\n",
    "quotient, remainder = divmod(m_x, g)\n",
    "\n",
    "# Final codeword polynomial\n",
    "c = m_x - remainder\n",
    "codeword = c.coeffs\n",
    "\n",
    "print(\"Message:\", message)\n",
    "print(\"Generator g(x):\", g)\n",
    "print(\"Codeword polynomial:\", c)\n",
    "print(\"Codeword symbols:\", codeword)\n"
   ]
  },
  {
   "cell_type": "markdown",
   "metadata": {},
   "source": [
    "# 🧪 Part 6: Real Reed–Solomon Decoding over Galois Fields\n",
    "\n",
    "## 🎯 Goal\n",
    "Take a received (possibly corrupted) codeword, and:\n",
    "\n",
    "* Detect if errors occurred (syndrome check)\n",
    "* Locate and correct the errors using field arithmetic\n",
    "\n",
    "## 🧠 Reminder: What Happens During RS Decoding?\n",
    "Given a received polynomial $r(x)$, we:\n",
    "\n",
    "Evaluate it at known roots of the generator polynomial → These are your syndromes\n",
    "$$ S_i = r(\\alpha_i)$$\n",
    "* If all syndromes = 0, codeword is valid ✅\n",
    "* If not, errors occurred\n",
    "\n",
    "Use algebra (e.g. Berlekamp–Massey or Euclidean algorithm) to:\n",
    "* Locate error positions\n",
    "* Compute error magnitudes\n",
    "* Correct the codeword"
   ]
  },
  {
   "cell_type": "markdown",
   "metadata": {},
   "source": [
    "Let's prepare an example."
   ]
  },
  {
   "cell_type": "code",
   "execution_count": 27,
   "metadata": {},
   "outputs": [
    {
     "name": "stdout",
     "output_type": "stream",
     "text": [
      "Original Codeword: [3 1 4 5 1]\n"
     ]
    }
   ],
   "source": [
    "import galois\n",
    "\n",
    "# Define field\n",
    "GF = galois.GF(7)\n",
    "\n",
    "# Message and generator polynomial\n",
    "message = GF([3, 1, 4])  # m(x) = 3 + 1x + 4x²\n",
    "g = galois.Poly([-1, 1], field=GF) * galois.Poly([-2, 1], field=GF)  # (x - 1)(x - 2)\n",
    "\n",
    "# Multiply message by x^2 (n - k = 2)\n",
    "m = galois.Poly(message, field=GF)\n",
    "m_shifted = m * galois.Poly.Degrees([2], coeffs=[1], field=GF)\n",
    "\n",
    "# Get codeword\n",
    "_, remainder = divmod(m_shifted, g)\n",
    "codeword_poly = m_shifted - remainder\n",
    "codeword = codeword_poly.coeffs\n",
    "print(\"Original Codeword:\", codeword)\n"
   ]
  },
  {
   "cell_type": "markdown",
   "metadata": {},
   "source": [
    "Let’s say the second symbol is changed from correct to an incorrect value."
   ]
  },
  {
   "cell_type": "code",
   "execution_count": 28,
   "metadata": {},
   "outputs": [
    {
     "name": "stdout",
     "output_type": "stream",
     "text": [
      "Received (Corrupted): [3 3 4 5 1]\n"
     ]
    }
   ],
   "source": [
    "received = codeword.copy()\n",
    "received[1] += GF(2)  # Corrupt symbol at position 1\n",
    "print(\"Received (Corrupted):\", received)\n"
   ]
  },
  {
   "cell_type": "markdown",
   "metadata": {},
   "source": [
    "Now, compute syndromes."
   ]
  },
  {
   "cell_type": "code",
   "execution_count": 32,
   "metadata": {},
   "outputs": [
    {
     "name": "stdout",
     "output_type": "stream",
     "text": [
      "Syndromes: [GF(2, order=7), GF(1, order=7)]\n"
     ]
    }
   ],
   "source": [
    "# Rebuild received polynomial\n",
    "r = galois.Poly(received, field=GF)\n",
    "\n",
    "# Roots used for generator polynomial\n",
    "roots = [1, 2]\n",
    "\n",
    "# Evaluate at roots: these are the syndromes\n",
    "syndromes = [r(root) for root in roots]\n",
    "print(\"Syndromes:\", syndromes)\n"
   ]
  },
  {
   "cell_type": "markdown",
   "metadata": {},
   "source": [
    "# 🧮 Part 7: Algebraic RS Decoding with Berlekamp–Massey & Euclidean Algorithm\n",
    "\n",
    "## 🔁 Part 7A: Reed–Solomon Decoding via Berlekamp–Massey\n",
    "### 🧠 Intuition\n",
    "Compute the syndrome sequence $S_1, S_2, \\dots S_2t$\n",
    " \n",
    "\n",
    "Feed the syndromes into the Berlekamp–Massey algorithm\n",
    "\n",
    "It outputs the error locator polynomial $Λ(x)$\n",
    "\n",
    "Find the roots of $Λ(x)$ → error positions\n",
    "\n",
    "Use Forney’s algorithm to compute error magnitudes\n",
    "\n",
    "Correct the codeword!"
   ]
  },
  {
   "cell_type": "code",
   "execution_count": 2,
   "metadata": {},
   "outputs": [],
   "source": [
    "import galois\n",
    "\n",
    "# Use a small field\n",
    "GF = galois.GF(7)\n",
    "\n",
    "# Message and generator (as before)\n",
    "k = 3\n",
    "n = 5\n",
    "message = GF([3, 1, 4])\n",
    "g = galois.Poly([-1, 1], field=GF) * galois.Poly([-2, 1], field=GF)\n",
    "\n",
    "# Encode\n",
    "m = galois.Poly(message, field=GF)\n",
    "m_shifted = m * galois.Poly.Degrees([n - k], coeffs=[1], field=GF)\n",
    "_, remainder = divmod(m_shifted, g)\n",
    "codeword_poly = m_shifted - remainder\n",
    "codeword = codeword_poly.coeffs\n",
    "\n",
    "# Simulate corruption\n",
    "received = codeword.copy()\n",
    "received[1] += GF(2)  # Corrupt symbol at index 1\n",
    "r = galois.Poly(received, field=GF)\n"
   ]
  },
  {
   "cell_type": "markdown",
   "metadata": {},
   "source": [
    "Step 1: Compute Syndromes"
   ]
  },
  {
   "cell_type": "code",
   "execution_count": 3,
   "metadata": {},
   "outputs": [
    {
     "name": "stdout",
     "output_type": "stream",
     "text": [
      "Syndromes: [2 1]\n"
     ]
    }
   ],
   "source": [
    "roots = [1, 2]\n",
    "syndromes = [r(root) for root in roots]\n",
    "S = GF(syndromes)\n",
    "print(\"Syndromes:\", S)\n"
   ]
  },
  {
   "cell_type": "markdown",
   "metadata": {},
   "source": [
    "Step 2: Run Berlekamp–Massey Algorithm"
   ]
  },
  {
   "cell_type": "code",
   "execution_count": 4,
   "metadata": {},
   "outputs": [
    {
     "name": "stdout",
     "output_type": "stream",
     "text": [
      "Error locator polynomial Λ(x): x + 3\n"
     ]
    }
   ],
   "source": [
    "Λ = galois.berlekamp_massey(S)\n",
    "print(\"Error locator polynomial Λ(x):\", Λ)"
   ]
  },
  {
   "cell_type": "markdown",
   "metadata": {},
   "source": [
    "Step 3: Find Error Locations"
   ]
  },
  {
   "cell_type": "code",
   "execution_count": 5,
   "metadata": {},
   "outputs": [
    {
     "name": "stdout",
     "output_type": "stream",
     "text": [
      "Roots of Λ(x): [GF(4, order=7)]\n"
     ]
    }
   ],
   "source": [
    "error_locs = [i for i in GF.elements if Λ(i) == 0]\n",
    "print(\"Roots of Λ(x):\", error_locs)"
   ]
  },
  {
   "cell_type": "markdown",
   "metadata": {},
   "source": [
    "You’ll now know: The positions in GF(7) where errors occurred (you may need to invert mapping to actual indices)"
   ]
  },
  {
   "cell_type": "markdown",
   "metadata": {},
   "source": [
    "### Big Question: \n",
    "\n",
    "How can the BM algorithm, given only a syndrome vector, recover the error locator polynomial?\n",
    "\n",
    "Shouldn't there be many different received codewords that could give the same syndrome?"
   ]
  },
  {
   "cell_type": "markdown",
   "metadata": {},
   "source": [
    "### Short Answer:\n",
    "\n",
    "Yes — many received codewords can lead to the same syndrome\n",
    "\n",
    "But… if we know the maximum number of correctable errors t=⌊(n−k)/2⌋, then the syndrome vector uniquely determines the error pattern,\n",
    "as long as the number of errors ≤t.\n",
    "\n",
    "But how?\n",
    "\n",
    "1. Syndromes are projections of the error polynomial\n",
    "\n",
    "Let’s break this down.\n",
    "\n",
    "Say:\n",
    "\n",
    "$c(x)$ = transmitted codeword (valid polynomial)\n",
    "\n",
    "$e(x)$ = error polynomial (nonzero terms where error occurred)\n",
    "\n",
    "$r(x)=c(x)+e(x)$ = received polynomial\n",
    "\n",
    "Since $c(x)$ is divisible by the generator $g(x)$, it vanishes at the known roots: $c(\\alpha_i)=0$ for $i=1…2t$\n",
    "\n",
    "So when you evaluate the received polynomial at those roots:\n",
    "\n",
    "$S_i =r(α_ )=c(α_i)+e(α_i)=0+e(α_i)$\n",
    "\n",
    "So the syndromes only depend on the error polynomial:\n",
    "\n",
    "$S_i =e(α_i)$\n",
    "\n",
    "In other words, syndromes are samples of the error polynomial at specific known points in the field."
   ]
  },
  {
   "cell_type": "markdown",
   "metadata": {},
   "source": [
    "2. Error patterns of ≤ t errors map uniquely to syndrome patterns\n",
    "\n",
    "This is the beauty of algebra over finite fields:\n",
    "\n",
    "* A t-degree polynomial has at most t roots\n",
    "* The error polynomial E(x) is sparse (has few terms)\n",
    "* The BM algorithm builds the shortest LFSR that could generate the syndrome sequence, which turns out to be the error locator polynomial\n",
    "\n",
    "So, when the number of errors is ≤ t:\n",
    "\n",
    "* The syndrome vector encodes all necessary information about the positions of errors\n",
    "* BM extracts the locator polynomial from it\n",
    "\n"
   ]
  },
  {
   "cell_type": "markdown",
   "metadata": {},
   "source": [
    "Why We Don’t Need the Codeword\n",
    "\n",
    "Because in RS codes, decoding is based only on the difference between the received word and valid codewords, and this difference is captured in the syndrome vector.\n",
    "\n",
    "You don’t need the codeword — you only need to know what part of the received word breaks the RS structure."
   ]
  },
  {
   "cell_type": "markdown",
   "metadata": {},
   "source": [
    "### BM Algorithm Summary\n",
    "\n",
    "BM iteratively builds a polynomial Λ(x) such that:\n",
    "\n",
    "1. $Λ_0 = 1$\n",
    "2. For each step 𝑖 : Compute discrepancy 𝑑\n",
    "3. If 𝑑≠0 ⇒ Update Λ(𝑥)\n",
    "\n",
    "* Λ(x): the current best guess for the error locator polynomial\n",
    "* B(x): a backup from the last time we updated\n",
    "* L: current degree (number of errors we're solving for)\n",
    "* m: number of steps since last update"
   ]
  },
  {
   "attachments": {
    "image.png": {
     "image/png": "[encoded data removed]"
    }
   },
   "cell_type": "markdown",
   "metadata": {},
   "source": [
    "![image.png](attachment:image.png)\n",
    "\n",
    "Source: https://en.wikipedia.org/wiki/Berlekamp%E2%80%93Massey_algorithm"
   ]
  },
  {
   "cell_type": "markdown",
   "metadata": {},
   "source": [
    "OK, but what's the significance of the Lambda polynomial (the output of BM)?\n",
    "\n",
    "The Lambda polynomial, Λ(x), is a compact way of encoding where the errors happened in the received codeword.\n",
    "\n",
    "Mathematical Form: \n",
    "\n",
    "Let’s say errors occurred at positions $i_1, i_2, ... i_t$ in the received codeword, and the corresponding field elements be $\\alpha^{i_1}, \\alpha^{i_2}, ... \\alpha^{i_t}$.\n",
    "\n",
    "Then:\n",
    "\n",
    "$\\Lambda(x) = \\prod_{j=1}^{t} (1-x \\cdot \\alpha^{i_j})$\n",
    "\n",
    "or, depending on notation:\n",
    "\n",
    "$\\Lambda(x) = \\prod_{j=1}^{t} (x - \\alpha^{-i_j})$\n",
    "\n",
    "Each root of $\\Lambda(x)$ corresponds to an error location in the codeword."
   ]
  },
  {
   "cell_type": "markdown",
   "metadata": {},
   "source": [
    "### 📌 Summary: Significance of the Lambda Polynomial\n",
    "\n",
    "| Term                     | Meaning                                                 |\n",
    "|--------------------------|----------------------------------------------------------|\n",
    "| $\\Lambda(x)$         | Error locator polynomial                                |\n",
    "| Roots of $\\Lambda(x)$| Field elements corresponding to **error positions**     |\n",
    "| Degree of $\\Lambda(x)$ | Number of **errors detected**                          |"
   ]
  },
  {
   "cell_type": "markdown",
   "metadata": {},
   "source": [
    "### 🧠 What’s Actually Happening Inside the for Loop?\n",
    "\n",
    "The loop processes each syndrome one-by-one.\n",
    "\n",
    "Each new syndrome $S_i$ gives new evidence about what kind of error pattern could have caused the observed syndromes so far.\n",
    "\n",
    "At every step, BM asks: \"Can the current error locator polynomial Λ(x) explain all the syndromes up to now?\"\n",
    "\n",
    "If yes: do nothing, just keep going. Otherwise, update Λ(x) to a better guess.\n",
    "\n",
    "#### 🔍 What's the discrepancy d?\n",
    "\n",
    "It’s a check:\n",
    "\n",
    "“Given our current guess Λ(x), how far off is it from explaining the next syndrome?”\n",
    "\n",
    "Mathematically:\n",
    "\n",
    "$$d_i = S_i + Λ_1 S_{i-1}+ Λ_2 S_{i-2} + Λ_L S_{i-L}$$\n",
    "\n",
    "if $d_i = 0$: Our current Λ(x) is good enough.\n",
    "\n",
    "else: Λ(x) cannot explain the syndrome - we must update.\n",
    "\n",
    "#### 🔧 How is Λ(x) Updated?\n",
    "\n",
    "“OK, let’s fix it. Let’s shift and scale the last good polynomial B(x), and subtract it from Λ(x) to cancel this discrepancy.”\n",
    "\n",
    "$$ C = C - d / b * x*m * B $$\n",
    "\n",
    "Where:\n",
    "* b is the discrepancy from the last successful update\n",
    "* m is how long it's been since we last updated\n",
    "* $x^m * B$ shifts the previous polynomial by m\n",
    "\n",
    "This correction reduces the discrepancy at $S_i$, just like a feedback loop.\n",
    "\n",
    "What we're really saying: “We’ve hit a discrepancy. To fix our current locator polynomial C(x), we’ll subtract a correction derived from the last successful version B(x), scaled and shifted appropriately."
   ]
  },
  {
   "cell_type": "markdown",
   "metadata": {},
   "source": [
    "Think of BM Like a detective watching error footprints (syndromes) come in one by one:\n",
    "* Tries to explain them using the current theory (polynomial)\n",
    "* If it can’t explain the new one: refines the theory\n",
    "\n",
    "Eventually, you get the simplest polynomial (minimal LFSR) that explains the whole syndrome sequence — and that’s your error locator.\n"
   ]
  },
  {
   "cell_type": "markdown",
   "metadata": {},
   "source": [
    "Please see berlekamp_massey_example notebook for example and further insights.\n",
    "\n",
    "The Lambda polynomial coming out of BM algorithm is the error locator polynomial. When solved for 0, the roots show the error locations."
   ]
  },
  {
   "cell_type": "markdown",
   "metadata": {},
   "source": []
  },
  {
   "cell_type": "markdown",
   "metadata": {},
   "source": [
    "## 🧩 Part 8 – From Lambda to Corrections: Error Locator & Evaluator\n",
    "\n",
    "In the previous part, we used **Berlekamp–Massey** to compute the **error locator polynomial** \\( \\Lambda(x) \\), which encodes the positions of the errors — but not their magnitudes.\n",
    "\n",
    "In this section, we complete the decoding process by using two key tools:\n",
    "1. **Error Locator**: Find out where the errors are\n",
    "2. **Error Evaluator**: Determine how severe each error was (how much to fix)\n",
    "\n",
    "---\n",
    "\n",
    "### 🔍 Step 1: Finding Error Locations\n",
    "\n",
    "Given:\n",
    "$$\n",
    "\\Lambda(x) = \\prod_{j=1}^{t}(1 - x \\cdot \\alpha^{i_j})\n",
    "$$\n",
    "\n",
    "We find its roots in the Galois Field.\n",
    "\n",
    "These roots correspond to **field elements**, which in turn point to **indices** in the received codeword.\n",
    "\n",
    "---\n",
    "\n",
    "### 🛠 Step 2: Computing Error Magnitudes\n",
    "\n",
    "Once we know where the errors occurred, we compute how much each symbol was corrupted using **Forney’s Formula**:\n",
    "\n",
    "$$\n",
    "e_j = -\\frac{\\Omega(x_j^{-1})}{\\Lambda'(x_j^{-1})}\n",
    "$$\n",
    "\n",
    "Where:\n",
    "- \\( \\Omega(x) \\): the **error evaluator polynomial**\n",
    "- \\( x_j \\): the inverse of the root found in \\( \\Lambda(x) \\)\n",
    "- \\( \\Lambda'(x) \\): the **formal derivative** of the error locator polynomial\n",
    "\n",
    "---\n",
    "\n",
    "### 🧱 In Practical RS Decoders\n",
    "\n",
    "In hardware or modular code, this is often structured as:\n",
    "\n",
    "1. **BM Unit**  \n",
    "   - Input: syndromes  \n",
    "   - Output: \\( \\Lambda(x) \\)  \n",
    "\n",
    "2. **Error Locator / Evaluator**  \n",
    "   - Input: \\( \\Lambda(x) \\), \\( \\Omega(x) \\)  \n",
    "   - Output: Error positions and magnitudes  \n",
    "\n",
    "3. **Corrector**  \n",
    "   - Input: received word, error info  \n",
    "   - Output: corrected codeword  \n",
    "\n",
    "Each step operates **entirely within the Galois Field**.\n",
    "\n",
    "---\n"
   ]
  },
  {
   "cell_type": "markdown",
   "metadata": {},
   "source": []
  }
 ],
 "metadata": {
  "kernelspec": {
   "display_name": "venv_comms",
   "language": "python",
   "name": "python3"
  },
  "language_info": {
   "codemirror_mode": {
    "name": "ipython",
    "version": 3
   },
   "file_extension": ".py",
   "mimetype": "text/x-python",
   "name": "python",
   "nbconvert_exporter": "python",
   "pygments_lexer": "ipython3",
   "version": "3.10.14"
  }
 },
 "nbformat": 4,
 "nbformat_minor": 2
}
