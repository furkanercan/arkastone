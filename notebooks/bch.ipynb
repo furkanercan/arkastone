{
 "cells": [
  {
   "cell_type": "markdown",
   "metadata": {},
   "source": [
    "# BCH Codes – Overview\n",
    "\n",
    "## What are BCH Codes?\n",
    "- BCH (Bose–Chaudhuri–Hocquenghem) codes are **cyclic error-correcting codes**.\n",
    "- They are designed to correct **multiple random errors** in transmitted data.\n",
    "- Defined over **GF(2^m)** — finite fields with 2^m elements.\n",
    "- BCH codes are **block codes**: fixed-length input → fixed-length output.\n",
    "\n",
    "---\n",
    "\n",
    "## Key Properties\n",
    "- A **(n, k, d_min)** BCH code:\n",
    "  - `n` = codeword length (usually n = 2^m - 1)\n",
    "  - `k` = number of message bits\n",
    "  - `d_min` = minimum Hamming distance ≥ 2t + 1 (where t is the max # of correctable errors)\n",
    "\n",
    "- **t** = number of correctable errors\n",
    "- BCH codes are **linear**, meaning any linear combination of valid codewords is also a valid codeword.\n",
    "\n",
    "---\n",
    "\n",
    "## How Are They Constructed?\n",
    "- Use **polynomials over GF(2^m)**.\n",
    "- The generator polynomial `g(x)` is the **least common multiple (LCM)** of minimal polynomials of consecutive powers of a primitive element:\n",
    "  \n",
    "  ```math\n",
    "  g(x) = LCM{ M_{α^b}(x), M_{α^{b+1}}(x), ..., M_{α^{b+2t-1}}(x) }\n"
   ]
  },
  {
   "cell_type": "markdown",
   "metadata": {},
   "source": []
  }
 ],
 "metadata": {
  "language_info": {
   "name": "python"
  }
 },
 "nbformat": 4,
 "nbformat_minor": 2
}
